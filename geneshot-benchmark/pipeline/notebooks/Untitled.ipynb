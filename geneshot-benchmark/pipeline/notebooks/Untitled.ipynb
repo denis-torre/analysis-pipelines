{
 "cells": [
  {
   "cell_type": "code",
   "execution_count": null,
   "metadata": {},
   "outputs": [],
   "source": [
    "%run /Users/denis/Documents/Projects/scripts/init.ipy\n",
    "os.chdir(os.getcwd().replace('/pipeline/notebooks', ''));"
   ]
  },
  {
   "cell_type": "code",
   "execution_count": null,
   "metadata": {
    "collapsed": true
   },
   "outputs": [],
   "source": [
    "infile = '/Users/denis/Downloads/correlation.tsv'"
   ]
  },
  {
   "cell_type": "code",
   "execution_count": null,
   "metadata": {},
   "outputs": [],
   "source": [
    "a = pd.read_table(infile)"
   ]
  },
  {
   "cell_type": "code",
   "execution_count": null,
   "metadata": {},
   "outputs": [],
   "source": [
    "a.shape"
   ]
  },
  {
   "cell_type": "code",
   "execution_count": null,
   "metadata": {},
   "outputs": [],
   "source": [
    "a.head()"
   ]
  },
  {
   "cell_type": "code",
   "execution_count": null,
   "metadata": {},
   "outputs": [],
   "source": [
    "of = h5py.File('/Users/denis/Downloads/correlation.h5', 'w')\n",
    "data_grp = of.create_group('data')\n",
    "# data_grp.create_dataset('values', data=a.values, chunks=True, dtype=int, compression=\"gzip\")\n",
    "# data_grp.create_dataset('index', data=a.index, chunks=True, dtype=h5py.special_dtype(vlen=str), compression=\"gzip\")\n",
    "# data_grp.create_dataset('columns', data=a.columns, chunks=True, compression=\"gzip\")\n",
    "# of.close()"
   ]
  },
  {
   "cell_type": "code",
   "execution_count": null,
   "metadata": {
    "collapsed": true
   },
   "outputs": [],
   "source": []
  }
 ],
 "metadata": {
  "hide_input": false,
  "kernelspec": {
   "display_name": "Python 3",
   "language": "python",
   "name": "python3"
  },
  "language_info": {
   "codemirror_mode": {
    "name": "ipython",
    "version": 3
   },
   "file_extension": ".py",
   "mimetype": "text/x-python",
   "name": "python",
   "nbconvert_exporter": "python",
   "pygments_lexer": "ipython3",
   "version": "3.6.3"
  }
 },
 "nbformat": 4,
 "nbformat_minor": 2
}
