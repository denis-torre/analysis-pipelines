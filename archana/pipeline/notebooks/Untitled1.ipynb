{
 "cells": [
  {
   "cell_type": "code",
   "execution_count": null,
   "metadata": {
    "collapsed": true
   },
   "outputs": [],
   "source": [
    "%%R -i plot_dataframe -h 1000 -w 1600 -r 200\n",
    "#ticks <- seq()\n",
    "ggplot(plot_dataframe, aes(x=, y=)) +\n",
    "geom_() +\n",
    "#facet_wrap(~, scales='free') +\n",
    "#coord_flip() +\n",
    "#scale_fill_manual(values=c('', '')) +\n",
    "#scale_fill_gradient2(low='black', mid='yellow', high='red', trans='log10', midpoint='1') +\n",
    "#scale_color_gradient2(low='black', mid='yellow', high='red', trans='log10', midpoint='1') +\n",
    "#scale_x_log10() +\n",
    "#scale_y_log10() +\n",
    "#scale_x_continuous(lim=c(min(ticks), max(ticks)), breaks=ticks, labels=ticks, trans='log10') +\n",
    "#scale_y_continuous(lim=c(min(ticks), max(ticks)), breaks=ticks, labels=ticks, trans='log10') +\n",
    "#ggtitle('') +\n",
    "#geom_abline(intercept=0, slope=1) +\n",
    "#xlab('') +\n",
    "#ylab('') +\n",
    "#labs(title = '', x = '', y = '', color = '', fill='') +\n",
    "#guides(fill=FALSE) +\n",
    "theme_classic() +\n",
    "theme(axis.title.x = element_text(vjust=-1), axis.title.y = element_text(vjust=2.5), axis.line = element_line(colour = 'black', size=0.2), strip.background = element_rect(color='black', fill='white', size=0))"
   ]
  },
  {
   "cell_type": "code",
   "execution_count": null,
   "metadata": {
    "collapsed": true
   },
   "outputs": [],
   "source": []
  }
 ],
 "metadata": {
  "hide_input": false,
  "kernelspec": {
   "display_name": "Python 3",
   "language": "python",
   "name": "python3"
  },
  "language_info": {
   "codemirror_mode": {
    "name": "ipython",
    "version": 3
   },
   "file_extension": ".py",
   "mimetype": "text/x-python",
   "name": "python",
   "nbconvert_exporter": "python",
   "pygments_lexer": "ipython3",
   "version": "3.6.3"
  }
 },
 "nbformat": 4,
 "nbformat_minor": 2
}
